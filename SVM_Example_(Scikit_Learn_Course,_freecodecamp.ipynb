{
  "nbformat": 4,
  "nbformat_minor": 0,
  "metadata": {
    "colab": {
      "provenance": [],
      "authorship_tag": "ABX9TyOK4Yvmrmf/80skphRwbdDh",
      "include_colab_link": true
    },
    "kernelspec": {
      "name": "python3",
      "display_name": "Python 3"
    },
    "language_info": {
      "name": "python"
    }
  },
  "cells": [
    {
      "cell_type": "markdown",
      "metadata": {
        "id": "view-in-github",
        "colab_type": "text"
      },
      "source": [
        "<a href=\"https://colab.research.google.com/github/kogi-b/Scikit-learn-Crash-Course-Udacity/blob/main/SVM_Example_(Scikit_Learn_Course%2C_freecodecamp.ipynb\" target=\"_parent\"><img src=\"https://colab.research.google.com/assets/colab-badge.svg\" alt=\"Open In Colab\"/></a>"
      ]
    },
    {
      "cell_type": "code",
      "execution_count": null,
      "metadata": {
        "id": "c7U3yc6dH7SX"
      },
      "outputs": [],
      "source": [
        "from sklearn import datasets\n",
        "import numpy as np\n",
        "from sklearn.model_selection import train_test_split"
      ]
    },
    {
      "cell_type": "code",
      "source": [
        "from sklearn import svm"
      ],
      "metadata": {
        "id": "nySDbwaKXKIi"
      },
      "execution_count": null,
      "outputs": []
    },
    {
      "cell_type": "code",
      "source": [
        "from sklearn.metrics import accuracy_score"
      ],
      "metadata": {
        "id": "agVTU-fLYPIA"
      },
      "execution_count": null,
      "outputs": []
    },
    {
      "cell_type": "code",
      "source": [
        "iris = datasets.load_iris()\n",
        "# split it in features and labels\n",
        "X = iris.data\n",
        "y = iris.target"
      ],
      "metadata": {
        "id": "dbvqPPtcVyQB"
      },
      "execution_count": null,
      "outputs": []
    },
    {
      "cell_type": "code",
      "source": [
        "classes = ['Iris Setosa', 'Iris Versicolour', 'Iris Virginica']"
      ],
      "metadata": {
        "id": "NPCfrBCiWJgX"
      },
      "execution_count": null,
      "outputs": []
    },
    {
      "cell_type": "code",
      "source": [
        "print(X.shape)\n",
        "print(y.shape)"
      ],
      "metadata": {
        "colab": {
          "base_uri": "https://localhost:8080/"
        },
        "id": "SBkv8LmOWFVI",
        "outputId": "c1144b65-2585-47f2-f7ee-e78441156b1a"
      },
      "execution_count": null,
      "outputs": [
        {
          "output_type": "stream",
          "name": "stdout",
          "text": [
            "(150, 4)\n",
            "(150,)\n"
          ]
        }
      ]
    },
    {
      "cell_type": "code",
      "source": [
        "X_train, X_test, y_train, y_test = train_test_split(X, y, test_size=0.2)\n",
        "model = svm.SVC()\n",
        "model.fit(X_train, y_train)\n",
        "print(model)"
      ],
      "metadata": {
        "colab": {
          "base_uri": "https://localhost:8080/"
        },
        "id": "Tuv17uuzXU6g",
        "outputId": "eeedd0a0-2878-4e52-9d9a-f457379c0d6e"
      },
      "execution_count": null,
      "outputs": [
        {
          "output_type": "stream",
          "name": "stdout",
          "text": [
            "SVC()\n"
          ]
        }
      ]
    },
    {
      "cell_type": "code",
      "source": [
        "predictions = model.predict(X_test)\n",
        "acc = accuracy_score(y_test, predictions)\n",
        "print(\"Predictions: \", predictions)\n",
        "print(\"actual: \", y_test)\n",
        "print(\"accuracy: \", acc)"
      ],
      "metadata": {
        "colab": {
          "base_uri": "https://localhost:8080/"
        },
        "id": "3cln4YjIYDNm",
        "outputId": "c854a00a-6f58-4f90-c258-ea3ebe38a560"
      },
      "execution_count": null,
      "outputs": [
        {
          "output_type": "stream",
          "name": "stdout",
          "text": [
            "Predictions:  [0 1 0 2 1 1 1 1 2 1 2 0 1 1 0 2 2 0 2 0 2 0 1 2 1 1 2 2 1 0]\n",
            "actual:  [0 1 0 2 1 1 1 1 2 1 1 0 1 1 0 2 2 0 2 0 1 0 1 2 1 1 2 2 1 0]\n",
            "accuracy:  0.9333333333333333\n"
          ]
        }
      ]
    },
    {
      "cell_type": "code",
      "source": [
        "for i in range(len(predictions)):\n",
        "  print(classes[predictions[i]])"
      ],
      "metadata": {
        "colab": {
          "base_uri": "https://localhost:8080/"
        },
        "id": "zK9BQhe0YN9q",
        "outputId": "05edafa1-ec6b-409f-cccd-697a3f4dba5b"
      },
      "execution_count": null,
      "outputs": [
        {
          "output_type": "stream",
          "name": "stdout",
          "text": [
            "Iris Setosa\n",
            "Iris Versicolour\n",
            "Iris Setosa\n",
            "Iris Virginica\n",
            "Iris Versicolour\n",
            "Iris Versicolour\n",
            "Iris Versicolour\n",
            "Iris Versicolour\n",
            "Iris Virginica\n",
            "Iris Versicolour\n",
            "Iris Virginica\n",
            "Iris Setosa\n",
            "Iris Versicolour\n",
            "Iris Versicolour\n",
            "Iris Setosa\n",
            "Iris Virginica\n",
            "Iris Virginica\n",
            "Iris Setosa\n",
            "Iris Virginica\n",
            "Iris Setosa\n",
            "Iris Virginica\n",
            "Iris Setosa\n",
            "Iris Versicolour\n",
            "Iris Virginica\n",
            "Iris Versicolour\n",
            "Iris Versicolour\n",
            "Iris Virginica\n",
            "Iris Virginica\n",
            "Iris Versicolour\n",
            "Iris Setosa\n"
          ]
        }
      ]
    },
    {
      "cell_type": "code",
      "source": [],
      "metadata": {
        "id": "R-Kg_SjTZCnm"
      },
      "execution_count": null,
      "outputs": []
    }
  ]
}